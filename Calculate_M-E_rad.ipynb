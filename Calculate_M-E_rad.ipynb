{
 "cells": [
  {
   "cell_type": "code",
   "execution_count": 17,
   "id": "097eb05c",
   "metadata": {},
   "outputs": [],
   "source": [
    "import numpy as np\n",
    "\n",
    "#Can be deleted because following library will be cntain in mass_manipulation\n",
    "from astropy.cosmology.core import const\n",
    "from astropy.cosmology import FlatLambdaCDM\n",
    "from astropy import units as u\n"
   ]
  },
  {
   "cell_type": "code",
   "execution_count": 18,
   "id": "58316688",
   "metadata": {},
   "outputs": [],
   "source": [
    "def compute_M_E(z_s,z_l,THETA_E):\n",
    "    M_E,M_E_remolina,errM_E_remolina=1,1,1\n",
    "    DLSDS_val,DLS,DS,DL,cosmo=compute_DLSDS(z_l,z_s)\n",
    "    #print(\"DLSDS_val,DLS,DS,DL,cosmo\",DLSDS_val,DLS,DS,DL,cosmo)\n",
    "    SIGMA_crit=compute_SIGMA_crit(DS,DL,DLS)\n",
    "    #print(\"SIGMA_crit=\",SIGMA_crit)\n",
    "    #print(\"DL\",DL)\n",
    "    #print(\"DL**2\",DL**2)\n",
    "    THETA_E_rad = float(THETA_E) * 2*np.pi/(360.0*3600.0) #arcsec to rad  \n",
    "    M_E=SIGMA_crit*np.pi*(THETA_E_rad*DL)**2\n",
    "    #print(\"SIGMA_crit,THETA_E_rad,DL\",SIGMA_crit,THETA_E_rad,DL)\n",
    "    return M_E,M_E_remolina,errM_E_remolina\n",
    "\n",
    "def compute_DLSDS(z_lens,z_bck_source):\n",
    "\n",
    "        z_lens=float(z_lens)\n",
    "        z_bck_source=float(z_bck_source)\n",
    "        cosmo = FlatLambdaCDM(H0=70, Om0=0.3)\n",
    "        DL=cosmo.angular_diameter_distance(z_lens)\n",
    "        DS=cosmo.angular_diameter_distance(z_bck_source)\n",
    "\n",
    "        scl_zS=cosmo.scale_factor(z_bck_source) # 1/ (1+z) scaling factor at z source\n",
    "        DML=cosmo.comoving_distance(z_lens)  #Comiving distance (tranverse) for zLens \n",
    "        DMS=cosmo.comoving_distance(z_bck_source)  #Comiving distance (tranverse) for zS\n",
    "        DH=cosmo._hubble_distance\n",
    "        Ok=cosmo.Ok0  # For flat LCDM it s Omegak=0\n",
    "        DLS=scl_zS*(DMS*np.sqrt(1+Ok*(DML**2)/(DH**2))-DML*np.sqrt(1+Ok*(DMS**2)/(DH**2) ))\n",
    "\n",
    "        DLSDS=DLS/DS\n",
    "\n",
    "        return DLSDS.value,DLS,DS,DL,cosmo\n",
    "\n",
    "def compute_SIGMA_crit(DS,DL,DLS):\n",
    "    A=const.c**2/(4*np.pi*const.G)\n",
    "    B=DS/(DL*DLS)\n",
    "    return A*B\n",
    "\n"
   ]
  },
  {
   "cell_type": "code",
   "execution_count": 20,
   "id": "6d245be0",
   "metadata": {},
   "outputs": [
    {
     "name": "stdout",
     "output_type": "stream",
     "text": [
      "Masse in Einstein radius 6.817716294384258 1e+12 solMass\n"
     ]
    }
   ],
   "source": [
    "z_s=9.0\n",
    "z_l=0.8\n",
    "R_E=5.0 #arcsec\n",
    "M_E,M_E_remolina,errM_E_remolina=compute_M_E(z_s,z_l,R_E)\n",
    "print(\"Masse in Einstein radius\",M_E.to(1E12*u.M_sun))\n"
   ]
  },
  {
   "cell_type": "code",
   "execution_count": null,
   "id": "772e1b0b",
   "metadata": {},
   "outputs": [],
   "source": []
  },
  {
   "cell_type": "code",
   "execution_count": null,
   "id": "68d6a5f8",
   "metadata": {},
   "outputs": [],
   "source": []
  }
 ],
 "metadata": {
  "kernelspec": {
   "display_name": "Python 3",
   "language": "python",
   "name": "python3"
  },
  "language_info": {
   "codemirror_mode": {
    "name": "ipython",
    "version": 3
   },
   "file_extension": ".py",
   "mimetype": "text/x-python",
   "name": "python",
   "nbconvert_exporter": "python",
   "pygments_lexer": "ipython3",
   "version": "3.8.8"
  }
 },
 "nbformat": 4,
 "nbformat_minor": 5
}
